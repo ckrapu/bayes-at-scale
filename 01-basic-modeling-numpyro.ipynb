{
 "cells": [
  {
   "cell_type": "code",
   "execution_count": 22,
   "metadata": {},
   "outputs": [],
   "source": [
    "import pandas as pd\n",
    "import numpy as np\n",
    "import constants as c\n",
    "import os\n",
    "import numpyro\n",
    "import numpyro.distributions as dist\n",
    "import jax.numpy as jnp\n",
    "\n",
    "from jax import random\n",
    "from numpyro.infer import MCMC, NUTS"
   ]
  },
  {
   "cell_type": "code",
   "execution_count": 23,
   "metadata": {},
   "outputs": [],
   "source": [
    "df = pd.read_parquet(os.path.join(c.DATA_DIR, 'brvehins', 'brvehins_clean.parquet'))\n",
    "df['log_exposure'] = np.log10(df['ExposTotal'])\n",
    "\n",
    "n_cities = df['city_idx'].nunique()"
   ]
  },
  {
   "cell_type": "code",
   "execution_count": 27,
   "metadata": {},
   "outputs": [
    {
     "name": "stderr",
     "output_type": "stream",
     "text": [
      "warmup:  15%|█▌        | 154/1000 [28:41<2:37:35, 11.18s/it, 1023 steps of size 4.29e-04. acc. prob=0.75]\n"
     ]
    },
    {
     "ename": "KeyboardInterrupt",
     "evalue": "",
     "output_type": "error",
     "traceback": [
      "\u001b[0;31m---------------------------------------------------------------------------\u001b[0m",
      "\u001b[0;31mKeyboardInterrupt\u001b[0m                         Traceback (most recent call last)",
      "Cell \u001b[0;32mIn[27], line 27\u001b[0m\n\u001b[1;32m     23\u001b[0m nuts_kernel \u001b[39m=\u001b[39m NUTS(model)\n\u001b[1;32m     25\u001b[0m mcmc \u001b[39m=\u001b[39m MCMC(nuts_kernel, num_warmup\u001b[39m=\u001b[39m\u001b[39m500\u001b[39m, num_samples\u001b[39m=\u001b[39m\u001b[39m500\u001b[39m, num_chains\u001b[39m=\u001b[39m\u001b[39m1\u001b[39m)\n\u001b[0;32m---> 27\u001b[0m mcmc\u001b[39m.\u001b[39;49mrun(rng_key_, city_idx\u001b[39m=\u001b[39;49mdf[\u001b[39m'\u001b[39;49m\u001b[39mcity_idx\u001b[39;49m\u001b[39m'\u001b[39;49m]\u001b[39m.\u001b[39;49mvalues, log_exposure\u001b[39m=\u001b[39;49mdf[\u001b[39m'\u001b[39;49m\u001b[39mlog_exposure\u001b[39;49m\u001b[39m'\u001b[39;49m]\u001b[39m.\u001b[39;49mvalues, claim_nb_coll\u001b[39m=\u001b[39;49mdf[\u001b[39m'\u001b[39;49m\u001b[39mClaimNbColl\u001b[39;49m\u001b[39m'\u001b[39;49m]\u001b[39m.\u001b[39;49mvalues)\n",
      "File \u001b[0;32m~/venvs/bas-venv/lib/python3.11/site-packages/numpyro/infer/mcmc.py:634\u001b[0m, in \u001b[0;36mMCMC.run\u001b[0;34m(self, rng_key, extra_fields, init_params, *args, **kwargs)\u001b[0m\n\u001b[1;32m    632\u001b[0m map_args \u001b[39m=\u001b[39m (rng_key, init_state, init_params)\n\u001b[1;32m    633\u001b[0m \u001b[39mif\u001b[39;00m \u001b[39mself\u001b[39m\u001b[39m.\u001b[39mnum_chains \u001b[39m==\u001b[39m \u001b[39m1\u001b[39m:\n\u001b[0;32m--> 634\u001b[0m     states_flat, last_state \u001b[39m=\u001b[39m partial_map_fn(map_args)\n\u001b[1;32m    635\u001b[0m     states \u001b[39m=\u001b[39m tree_map(\u001b[39mlambda\u001b[39;00m x: x[jnp\u001b[39m.\u001b[39mnewaxis, \u001b[39m.\u001b[39m\u001b[39m.\u001b[39m\u001b[39m.\u001b[39m], states_flat)\n\u001b[1;32m    636\u001b[0m \u001b[39melse\u001b[39;00m:\n",
      "File \u001b[0;32m~/venvs/bas-venv/lib/python3.11/site-packages/numpyro/infer/mcmc.py:440\u001b[0m, in \u001b[0;36mMCMC._single_chain_mcmc\u001b[0;34m(self, init, args, kwargs, collect_fields)\u001b[0m\n\u001b[1;32m    434\u001b[0m collection_size \u001b[39m=\u001b[39m \u001b[39mself\u001b[39m\u001b[39m.\u001b[39m_collection_params[\u001b[39m\"\u001b[39m\u001b[39mcollection_size\u001b[39m\u001b[39m\"\u001b[39m]\n\u001b[1;32m    435\u001b[0m collection_size \u001b[39m=\u001b[39m (\n\u001b[1;32m    436\u001b[0m     collection_size\n\u001b[1;32m    437\u001b[0m     \u001b[39mif\u001b[39;00m collection_size \u001b[39mis\u001b[39;00m \u001b[39mNone\u001b[39;00m\n\u001b[1;32m    438\u001b[0m     \u001b[39melse\u001b[39;00m collection_size \u001b[39m/\u001b[39m\u001b[39m/\u001b[39m \u001b[39mself\u001b[39m\u001b[39m.\u001b[39mthinning\n\u001b[1;32m    439\u001b[0m )\n\u001b[0;32m--> 440\u001b[0m collect_vals \u001b[39m=\u001b[39m fori_collect(\n\u001b[1;32m    441\u001b[0m     lower_idx,\n\u001b[1;32m    442\u001b[0m     upper_idx,\n\u001b[1;32m    443\u001b[0m     sample_fn,\n\u001b[1;32m    444\u001b[0m     init_val,\n\u001b[1;32m    445\u001b[0m     transform\u001b[39m=\u001b[39;49m_collect_fn(collect_fields),\n\u001b[1;32m    446\u001b[0m     progbar\u001b[39m=\u001b[39;49m\u001b[39mself\u001b[39;49m\u001b[39m.\u001b[39;49mprogress_bar,\n\u001b[1;32m    447\u001b[0m     return_last_val\u001b[39m=\u001b[39;49m\u001b[39mTrue\u001b[39;49;00m,\n\u001b[1;32m    448\u001b[0m     thinning\u001b[39m=\u001b[39;49m\u001b[39mself\u001b[39;49m\u001b[39m.\u001b[39;49mthinning,\n\u001b[1;32m    449\u001b[0m     collection_size\u001b[39m=\u001b[39;49mcollection_size,\n\u001b[1;32m    450\u001b[0m     progbar_desc\u001b[39m=\u001b[39;49mpartial(_get_progbar_desc_str, lower_idx, phase),\n\u001b[1;32m    451\u001b[0m     diagnostics_fn\u001b[39m=\u001b[39;49mdiagnostics,\n\u001b[1;32m    452\u001b[0m     num_chains\u001b[39m=\u001b[39;49m\u001b[39mself\u001b[39;49m\u001b[39m.\u001b[39;49mnum_chains \u001b[39mif\u001b[39;49;00m \u001b[39mself\u001b[39;49m\u001b[39m.\u001b[39;49mchain_method \u001b[39m==\u001b[39;49m \u001b[39m\"\u001b[39;49m\u001b[39mparallel\u001b[39;49m\u001b[39m\"\u001b[39;49m \u001b[39melse\u001b[39;49;00m \u001b[39m1\u001b[39;49m,\n\u001b[1;32m    453\u001b[0m )\n\u001b[1;32m    454\u001b[0m states, last_val \u001b[39m=\u001b[39m collect_vals\n\u001b[1;32m    455\u001b[0m \u001b[39m# Get first argument of type `HMCState`\u001b[39;00m\n",
      "File \u001b[0;32m~/venvs/bas-venv/lib/python3.11/site-packages/numpyro/util.py:367\u001b[0m, in \u001b[0;36mfori_collect\u001b[0;34m(lower, upper, body_fun, init_val, transform, progbar, return_last_val, collection_size, thinning, **progbar_opts)\u001b[0m\n\u001b[1;32m    365\u001b[0m \u001b[39mwith\u001b[39;00m tqdm\u001b[39m.\u001b[39mtrange(upper) \u001b[39mas\u001b[39;00m t:\n\u001b[1;32m    366\u001b[0m     \u001b[39mfor\u001b[39;00m i \u001b[39min\u001b[39;00m t:\n\u001b[0;32m--> 367\u001b[0m         vals \u001b[39m=\u001b[39m jit(_body_fn)(i, vals)\n\u001b[1;32m    368\u001b[0m         t\u001b[39m.\u001b[39mset_description(progbar_desc(i), refresh\u001b[39m=\u001b[39m\u001b[39mFalse\u001b[39;00m)\n\u001b[1;32m    369\u001b[0m         \u001b[39mif\u001b[39;00m diagnostics_fn:\n",
      "File \u001b[0;32m<string>:1\u001b[0m, in \u001b[0;36m<lambda>\u001b[0;34m(_cls, step_size, inverse_mass_matrix, mass_matrix_sqrt, mass_matrix_sqrt_inv, ss_state, mm_state, window_idx, rng_key)\u001b[0m\n",
      "\u001b[0;31mKeyboardInterrupt\u001b[0m: "
     ]
    }
   ],
   "source": [
    "def model(city_idx, log_exposure, claim_nb_coll):\n",
    "    # Hyperparameters for the city random effect\n",
    "    mu_b = numpyro.sample('mu_b', dist.Normal(0, 1))\n",
    "    sigma_b = numpyro.sample('sigma_b', dist.HalfCauchy(1))\n",
    "\n",
    "    # Random effect for each city\n",
    "    with numpyro.plate('city', n_cities):\n",
    "        b = numpyro.sample('b', dist.Normal(mu_b, sigma_b))\n",
    "\n",
    "    # Global offset with single free parameter to be added to log mean\n",
    "    log_offset = numpyro.sample('log_offset', dist.Normal(0, 1))\n",
    "\n",
    "    # Model for the log-mean\n",
    "    log_mean = log_exposure + b[city_idx] + log_offset\n",
    "\n",
    "    # Poisson likelihood\n",
    "    with numpyro.plate('data', len(city_idx)):\n",
    "        numpyro.sample('obs', dist.Poisson(jnp.exp(log_mean)), obs=claim_nb_coll)\n",
    "\n",
    "# Run NUTS\n",
    "rng_key = random.PRNGKey(0)\n",
    "rng_key, rng_key_ = random.split(rng_key)\n",
    "nuts_kernel = NUTS(model)\n",
    "\n",
    "mcmc = MCMC(nuts_kernel, num_warmup=500, num_samples=500, num_chains=1)\n",
    "\n",
    "# Clocks at 12s/it at 1024 steps, so ~10 ms per stepb\n",
    "mcmc.run(rng_key_, city_idx=df['city_idx'].values, log_exposure=df['log_exposure'].values, claim_nb_coll=df['ClaimNbColl'].values)\n"
   ]
  },
  {
   "cell_type": "code",
   "execution_count": 25,
   "metadata": {},
   "outputs": [
    {
     "data": {
      "text/plain": [
       "count    2.658372e+06\n",
       "mean     2.363132e+00\n",
       "std      1.955782e+01\n",
       "min      2.739726e-03\n",
       "25%      4.200000e-01\n",
       "50%      5.000000e-01\n",
       "75%      1.030000e+00\n",
       "max      2.963260e+03\n",
       "Name: ExposTotal, dtype: float64"
      ]
     },
     "execution_count": 25,
     "metadata": {},
     "output_type": "execute_result"
    }
   ],
   "source": [
    "df['ExposTotal'].describe()"
   ]
  },
  {
   "cell_type": "code",
   "execution_count": null,
   "metadata": {},
   "outputs": [],
   "source": []
  }
 ],
 "metadata": {
  "kernelspec": {
   "display_name": "Python 3",
   "language": "python",
   "name": "python3"
  },
  "language_info": {
   "codemirror_mode": {
    "name": "ipython",
    "version": 3
   },
   "file_extension": ".py",
   "mimetype": "text/x-python",
   "name": "python",
   "nbconvert_exporter": "python",
   "pygments_lexer": "ipython3",
   "version": "3.11.5"
  },
  "orig_nbformat": 4
 },
 "nbformat": 4,
 "nbformat_minor": 2
}
